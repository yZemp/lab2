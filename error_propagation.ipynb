{
  "cells": [
    {
      "cell_type": "code",
      "execution_count": 1,
      "metadata": {
        "id": "I5SSahzg8MU9"
      },
      "outputs": [],
      "source": [
        "from IPython.display import Latex\n",
        "from sympy import *\n",
        "import numpy as np"
      ]
    },
    {
      "cell_type": "code",
      "execution_count": 4,
      "metadata": {
        "id": "otzANY8l8dVP"
      },
      "outputs": [],
      "source": [
        "def err_prop_display(variables):\n",
        "    '''\n",
        "    Used in ERROR_PROPAGATION.\n",
        "    Auxiliary function that displays the error propagation in Latex.\n",
        "    Particular cases (one or two variables) are managed separately.\n",
        "    '''\n",
        "\n",
        "    if(len(variables)==1):\n",
        "      # sigma\n",
        "      sigma = symbols(f'sigma_{variables[0]}')\n",
        "      # display\n",
        "      display(Latex('\\sigma=\\\\left|{}\\\\right|{}'.format(latex(diff(formula, variables[0])), latex(sigma))))\n",
        "      return\n",
        "\n",
        "    if(len(variables)==2):\n",
        "      # sigmas\n",
        "      sigmas = list()\n",
        "      for ausy in variables:\n",
        "          sigmas.append(f'sigma_{ausy}')\n",
        "      sigmastring = ' '.join(sigmas)\n",
        "      sigmas = symbols(sigmastring)\n",
        "\n",
        "      # covariances\n",
        "      covar = symbols(f'sigma_{variables[0]}{variables[1]}')\n",
        "\n",
        "      exp = 0\n",
        "      # add the sigmas\n",
        "      for i in range(len(variables)):\n",
        "          exp += (diff(formula, variables[i]))**2 * sigmas[i]**2\n",
        "      # add the cov\n",
        "      exp += 2 * (diff(formula, variables[0])) * (diff(formula, variables[1])) * covar\n",
        "      # display\n",
        "      display(Latex('\\sigma='+latex(sqrt(exp))))\n",
        "\n",
        "      return\n",
        "\n",
        "    else:\n",
        "\n",
        "      # sigmas\n",
        "      sigmas = list()\n",
        "      for ausy in variables:\n",
        "          sigmas.append(f'sigma_{ausy}')\n",
        "      sigmastring = ' '.join(sigmas)\n",
        "      sigmas = symbols(sigmastring)\n",
        "\n",
        "      # covariances\n",
        "      covars = list()\n",
        "      for i in range(len(variables)):\n",
        "        for j in range(len(variables)-i-1): # ideally the covariance matrix is symmetrical: we use only the upper triangular\n",
        "          covars.append(f'sigma_{variables[i]}{variables[1+j+i]}')\n",
        "      covarstring = ' '.join(covars)\n",
        "      covars = symbols(covarstring)\n",
        "\n",
        "      exp = 0\n",
        "      # add the sigmas\n",
        "      for i in range(len(variables)):\n",
        "          exp += (diff(formula, variables[i]))**2 * sigmas[i]**2\n",
        "      # add the covs\n",
        "      k = 0 # counter to go trough the covariance symbols vector\n",
        "      for i in range(len(variables)):\n",
        "        for j in range(len(variables)-i-1): # ideally the covariance matrix is symmetrical: we use only the upper triangular\n",
        "          exp += 2 * (diff(formula, variables[i])) * (diff(formula, variables[1+j+i])) * covars[k]\n",
        "          k += 1\n",
        "\n",
        "      # display\n",
        "      display(Latex('\\sigma='+latex(sqrt(exp))))\n",
        "\n",
        "      return\n",
        "\n",
        "\n",
        "\n",
        "def error_propagation(vector, formula, values, cov_matr, display=True):\n",
        "    '''\n",
        "    Function to evaluate the propagated uncertainty of a quantity obtained with the expression in FORMULA (str) from the other quantities in VECTOR (list of str);\n",
        "    in the point of evaluation the quantities have the values in VALUES (list of float) and the covariance matrix is COV_MATR (list of list of float).\n",
        "    The expression of propagation is displayed only when display=True (default).\n",
        "    '''\n",
        "\n",
        "    # raise errors\n",
        "    if(len(vector) != len(values)): raise ValueError('variables and values mismatch')\n",
        "    if((len(vector) != len(cov_matr))): raise ValueError('variables and errors mismatch')\n",
        "    if(len(cov_matr) > 1):\n",
        "      for i in range(len(cov_matr)):\n",
        "        if((len(vector) != len(cov_matr[i]))): raise ValueError('variables and errors mismatch')\n",
        "\n",
        "    # create list of variables from names in VECTOR\n",
        "    if(len(vector) == 1): variables = vector\n",
        "    else: variables = list(symbols(' '.join(vector)))\n",
        "\n",
        "    if(display): err_prop_display(variables)\n",
        "\n",
        "    derivatives = []\n",
        "    # create derivative expressions vector\n",
        "    for i in range(len(vector)): derivatives.append(str(diff(formula, variables[i])))\n",
        "    # substitute variable names with value names\n",
        "    for i in range(len(derivatives)):\n",
        "      for j in range(len(variables)):\n",
        "        derivatives[i] = derivatives[i].replace(str(variables[j]), 'values[{}]'.format(j))\n",
        "    # evaluates the derivatives\n",
        "    for i in range(len(derivatives)): derivatives[i] = float(eval(derivatives[i]))\n",
        "\n",
        "    # final matrix product\n",
        "    if(len(derivatives)==1): final_error = np.sqrt(derivatives[0]**2 * cov_matr[0])\n",
        "    else:\n",
        "      derivatives = np.array(derivatives)\n",
        "      final_error = np.sqrt(np.dot(derivatives.T, np.dot(cov_matr, derivatives)))\n",
        "\n",
        "    return final_error"
      ]
    },
    {
      "cell_type": "code",
      "execution_count": 5,
      "metadata": {
        "colab": {
          "base_uri": "https://localhost:8080/",
          "height": 66
        },
        "id": "2cMmzmuQ8kUX",
        "outputId": "40c50cf1-adaa-4574-904e-1b22ef17f7ef"
      },
      "outputs": [
        {
          "data": {
            "text/latex": [
              "\\sigma=\\sqrt{\\frac{A^{6} \\sigma_{B}^{2}}{B^{2}} + \\frac{6 A^{5} \\sigma_{AB} \\log{\\left(B \\right)}}{B} + 9 A^{4} \\sigma_{A}^{2} \\log{\\left(B \\right)}^{2}}"
            ],
            "text/plain": [
              "<IPython.core.display.Latex object>"
            ]
          },
          "metadata": {},
          "output_type": "display_data"
        },
        {
          "data": {
            "text/plain": [
              "2.5794415416798357"
            ]
          },
          "execution_count": 5,
          "metadata": {},
          "output_type": "execute_result"
        }
      ],
      "source": [
        "vector = ['A', 'B', 'C']\n",
        "formula = 'A**3 * log(B) + 0*sinh(C)**2'\n",
        "\n",
        "error_propagation(['A', 'B', 'C'], formula, [1., 2., 2.], [[1., 1., 0.], [1., 1., 0.], [0., 0., 1.]])"
      ]
    }
  ],
  "metadata": {
    "colab": {
      "provenance": []
    },
    "kernelspec": {
      "display_name": "Python 3",
      "name": "python3"
    },
    "language_info": {
      "codemirror_mode": {
        "name": "ipython",
        "version": 3
      },
      "file_extension": ".py",
      "mimetype": "text/x-python",
      "name": "python",
      "nbconvert_exporter": "python",
      "pygments_lexer": "ipython3",
      "version": "3.10.12"
    }
  },
  "nbformat": 4,
  "nbformat_minor": 0
}
